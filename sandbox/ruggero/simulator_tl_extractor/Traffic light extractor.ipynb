{
 "cells": [
  {
   "cell_type": "code",
   "execution_count": 1,
   "metadata": {
    "collapsed": true
   },
   "outputs": [],
   "source": [
    "import tensorflow as tf\n",
    "import numpy as np\n",
    "import os\n",
    "import cv2\n",
    "import matplotlib.pyplot as plt\n",
    "\n",
    "%matplotlib inline"
   ]
  },
  {
   "cell_type": "code",
   "execution_count": 2,
   "metadata": {
    "collapsed": true
   },
   "outputs": [],
   "source": [
    "path = \"../../../data/traffic_light_sim_captured/\"\n",
    "files = os.listdir(path)\n",
    "states = []\n",
    "images = []\n",
    "for f in files:\n",
    "    states.append(f.split(\"_\")[1])\n",
    "    images.append(cv2.imread(os.path.join(path, f))[...,::-1])\n",
    "\n",
    "images = np.array(images)"
   ]
  },
  {
   "cell_type": "code",
   "execution_count": 3,
   "metadata": {
    "collapsed": true
   },
   "outputs": [],
   "source": [
    "model_file = \"../../../data/traffic-light-models/rfcn_resnet101_coco_11_06_2017/frozen_inference_graph.pb\"\n",
    "\n",
    "detection_graph = tf.Graph()\n",
    "with detection_graph.as_default():\n",
    "    od_graph_def = tf.GraphDef()\n",
    "    with tf.gfile.GFile(model_file, 'rb') as fid:\n",
    "        serialized_graph = fid.read()\n",
    "        od_graph_def.ParseFromString(serialized_graph)\n",
    "        tf.import_graph_def(od_graph_def, name='')\n",
    "\n",
    "sess = tf.Session(graph=detection_graph)"
   ]
  },
  {
   "cell_type": "code",
   "execution_count": 4,
   "metadata": {
    "collapsed": true
   },
   "outputs": [],
   "source": [
    "image_tensor = detection_graph.get_tensor_by_name('image_tensor:0')\n",
    "boxes = detection_graph.get_tensor_by_name('detection_boxes:0')\n",
    "scores = detection_graph.get_tensor_by_name('detection_scores:0')\n",
    "classes = detection_graph.get_tensor_by_name('detection_classes:0')\n",
    "num_detections = detection_graph.get_tensor_by_name('num_detections:0')"
   ]
  },
  {
   "cell_type": "code",
   "execution_count": 13,
   "metadata": {
    "collapsed": true
   },
   "outputs": [],
   "source": [
    "def prepare_for_class(image, boxes):\n",
    "    shape = image.shape\n",
    "    (left, right, top, bottom) = (boxes[0, 1] * shape[2], boxes[0, 3] * shape[2],\n",
    "                                    boxes[0, 0] * shape[1], boxes[0, 2] * shape[1])\n",
    "\n",
    "    crop_height = int(bottom - top)\n",
    "    crop_width = int(right - left)\n",
    "\n",
    "    if 1.5*crop_width < crop_height < 3.5*crop_width:\n",
    "        center = (int(left)+ int(right)) // 2\n",
    "        if (center - (crop_height // 2) < 0):\n",
    "            cropped = image[0, int(top): int(bottom), 0: crop_height , :]\n",
    "        elif (center + (crop_height // 2) > shape[2]):\n",
    "            cropped = image[0, int(top): int(bottom), shape[2] - crop_height: shape[2], :]\n",
    "        else:\n",
    "            cropped = image[0, int(top) : int(bottom), center - (crop_height // 2): center + (crop_height//2), :]\n",
    "        resized = cv2.resize(cropped, (50, 50), interpolation = cv2.INTER_CUBIC)\n",
    "        return resized[...,::-1]\n",
    "    else:\n",
    "        return None"
   ]
  },
  {
   "cell_type": "code",
   "execution_count": null,
   "metadata": {
    "scrolled": true
   },
   "outputs": [],
   "source": [
    "save_path = \"../../../data/simulator_traffic_lights_extracted/\"\n",
    "if not os.path.isdir(save_path):\n",
    "    os.makedirs(save_path)\n",
    "    \n",
    "red = \"../../../data/simulator_traffic_lights_extracted/red/\"\n",
    "if not os.path.isdir(red):\n",
    "    os.makedirs(red)\n",
    "\n",
    "yellow = \"../../../data/simulator_traffic_lights_extracted/yellow/\"\n",
    "if not os.path.isdir(yellow):\n",
    "    os.makedirs(yellow)\n",
    "\n",
    "green = \"../../../data/simulator_traffic_lights_extracted/green/\"\n",
    "if not os.path.isdir(green):\n",
    "    os.makedirs(green)\n",
    "\n",
    "count = 0\n",
    "for i in range(len(images)):\n",
    "    b, s, c, n_det = sess.run([boxes, scores, classes, num_detections], feed_dict={image_tensor: images[i:i+1]})\n",
    "    tl_detections = [k for k in range(b.shape[1]) if (s[0, k] > 0.8 and c[0,k] == 10)]\n",
    "    cropped = np.array([prepare_for_class(images[i:i+1], b[:, k, :]) for k in tl_detections if k is not None])\n",
    "    for im in cropped:\n",
    "\n",
    "        if int(states[i]) == 0:\n",
    "            file_path = os.path.join(red, str(count) + \".png\")\n",
    "        elif int(states[i]) == 1:\n",
    "            file_path = os.path.join(yellow, str(count) + \".png\")\n",
    "        elif int(states[i]) == 2:\n",
    "            file_path = os.path.join(green, str(count) + \".png\")\n",
    "        else:\n",
    "            continue\n",
    "        count += 1\n",
    "        cv2.imwrite(file_path, im)\n"
   ]
  },
  {
   "cell_type": "code",
   "execution_count": null,
   "metadata": {
    "collapsed": true
   },
   "outputs": [],
   "source": []
  }
 ],
 "metadata": {
  "kernelspec": {
   "display_name": "Python 2",
   "language": "python",
   "name": "python2"
  },
  "language_info": {
   "codemirror_mode": {
    "name": "ipython",
    "version": 2
   },
   "file_extension": ".py",
   "mimetype": "text/x-python",
   "name": "python",
   "nbconvert_exporter": "python",
   "pygments_lexer": "ipython2",
   "version": "2.7.13"
  }
 },
 "nbformat": 4,
 "nbformat_minor": 2
}
