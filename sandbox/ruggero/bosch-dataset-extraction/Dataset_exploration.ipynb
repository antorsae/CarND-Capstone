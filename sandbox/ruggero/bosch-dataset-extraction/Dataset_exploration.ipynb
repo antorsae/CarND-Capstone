{
 "cells": [
  {
   "cell_type": "code",
   "execution_count": 6,
   "metadata": {},
   "outputs": [
    {
     "name": "stderr",
     "output_type": "stream",
     "text": [
      "Using TensorFlow backend.\n"
     ]
    }
   ],
   "source": [
    "import numpy as np\n",
    "import cv2\n",
    "import yaml\n",
    "import matplotlib.pyplot as plt\n",
    "import os\n",
    "import random\n",
    "\n",
    "import keras\n",
    "from keras.models import Sequential\n",
    "from keras.layers.core import Flatten, Dense, Dropout\n",
    "from keras.layers.convolutional import Convolution2D, MaxPooling2D, ZeroPadding2D\n",
    "from keras.optimizers import SGD"
   ]
  },
  {
   "cell_type": "code",
   "execution_count": 21,
   "metadata": {
    "collapsed": true
   },
   "outputs": [],
   "source": [
    "path_train = \"../../../data/bosch/\"\n",
    "with open(os.path.join(path_train ,\"train.yaml\"), 'r') as stream:\n",
    "    try:\n",
    "        data = yaml.load(stream)\n",
    "    except yaml.YAMLError as exc:\n",
    "        print(exc)\n",
    "        \n",
    "labels = [\"Red\", \"Yellow\", \"Green\"]\n",
    "train_data = []\n",
    "for d in data:\n",
    "    to_append = {\"path\" : d[\"path\"], \"boxes\" : []}\n",
    "    for b in d[\"boxes\"]:\n",
    "        if (b[\"occluded\"] is False) and (b[\"label\"] in labels):\n",
    "            to_append[\"boxes\"].append(b)\n",
    "    if len(to_append[\"boxes\"]) > 0:\n",
    "        train_data.append(to_append)"
   ]
  },
  {
   "cell_type": "code",
   "execution_count": 22,
   "metadata": {
    "collapsed": true
   },
   "outputs": [],
   "source": [
    "path_train_add = \"../../../data/bosch_additional/\"\n",
    "with open(os.path.join(path_train_add ,\"additional_train.yaml\"), 'r') as stream:\n",
    "    try:\n",
    "        data = yaml.load(stream)\n",
    "    except yaml.YAMLError as exc:\n",
    "        print(exc)\n",
    "\n",
    "train_data_add = []\n",
    "labels = [\"Red\", \"Yellow\", \"Green\"]\n",
    "for d in data:\n",
    "    to_append = {\"path\" : d[\"path\"], \"boxes\" : []}\n",
    "    for b in d[\"boxes\"]:\n",
    "        if (b[\"occluded\"] is False) and (b[\"label\"] in labels):\n",
    "            to_append[\"boxes\"].append(b)\n",
    "    if len(to_append[\"boxes\"]) > 0:\n",
    "        train_data_add.append(to_append)"
   ]
  },
  {
   "cell_type": "code",
   "execution_count": 23,
   "metadata": {
    "collapsed": true
   },
   "outputs": [],
   "source": [
    "path_test = \"../../../data/bosch_test/\"\n",
    "with open(os.path.join(path_test ,\"test.yaml\"), 'r') as stream:\n",
    "    try:\n",
    "        data = yaml.load(stream)\n",
    "    except yaml.YAMLError as exc:\n",
    "        print(exc)\n",
    "\n",
    "test_data = []\n",
    "labels = [\"Red\", \"Yellow\", \"Green\"]\n",
    "for d in data:\n",
    "    to_append = {\"path\" : d[\"path\"], \"boxes\" : []}\n",
    "    for b in d[\"boxes\"]:\n",
    "        if (b[\"occluded\"] is False) and (b[\"label\"] in labels):\n",
    "            to_append[\"boxes\"].append(b)\n",
    "    if len(to_append[\"boxes\"]) > 0:\n",
    "        test_data.append(to_append)"
   ]
  },
  {
   "cell_type": "code",
   "execution_count": 44,
   "metadata": {
    "collapsed": true
   },
   "outputs": [],
   "source": [
    "# Here we extract the bounding boxes \n",
    "\n",
    "random.seed(0)\n",
    "\n",
    "\n",
    "path_save = \"../../../data/traffic_lights_from_bosch/\"\n",
    "count = 0\n",
    "for d in train_data:\n",
    "    image = cv2.imread(os.path.join(path_train, d[\"path\"]))\n",
    "    for tl in d[\"boxes\"]:\n",
    "        x_min = max(int(tl[\"x_min\"]), 0) \n",
    "        x_max = max(int(tl[\"x_max\"]), 0)\n",
    "        y_min = max(int(tl[\"y_min\"]), 0)\n",
    "        y_max = max(int(tl[\"y_max\"]), 0)\n",
    "        deltax = x_max - x_min\n",
    "        if (deltax > 20) and (deltax < 40):                   #If the traffic light in the image is already big enough\n",
    "            miss = 40 - deltax\n",
    "            for i in range(5):\n",
    "                wide_x_up = random.randint(0, miss)\n",
    "                wide_x_down = miss - wide_x_up\n",
    "                y_center = (y_max + y_min) //2\n",
    "                cropped = image[y_center - 25 : y_center + 25 , x_min - wide_x_down - 5 : x_max + wide_x_up + 5, :]\n",
    "                if cropped.shape == (50, 50, 3):\n",
    "                    filename = str(count).zfill(5) + \"_\" + str(tl[\"label\"]) + \".png\"\n",
    "                    count += 1\n",
    "                    cv2.imwrite(os.path.join(path_save, str(tl[\"label\"]) , filename), cropped)\n"
   ]
  },
  {
   "cell_type": "code",
   "execution_count": 45,
   "metadata": {
    "collapsed": true
   },
   "outputs": [],
   "source": [
    "\n",
    "for d in train_data_add:\n",
    "    image = cv2.imread(os.path.join(path_train_add, d[\"path\"]))\n",
    "    for tl in d[\"boxes\"]:\n",
    "        x_min = max(int(tl[\"x_min\"]), 0) \n",
    "        x_max = max(int(tl[\"x_max\"]), 0)\n",
    "        y_min = max(int(tl[\"y_min\"]), 0)\n",
    "        y_max = max(int(tl[\"y_max\"]), 0)\n",
    "        deltax = x_max - x_min\n",
    "        if (deltax > 20) and (deltax < 40):                   #If the traffic light in the image is already big enough\n",
    "            miss = 40 - deltax\n",
    "            for i in range(5):\n",
    "                wide_x_up = random.randint(0, miss)\n",
    "                wide_x_down = miss - wide_x_up\n",
    "                y_center = (y_max + y_min) //2\n",
    "                cropped = image[y_center - 25 : y_center + 25 , x_min - wide_x_down - 5 : x_max + wide_x_up + 5, :]\n",
    "                if cropped.shape == (50, 50, 3):\n",
    "                    filename = str(count).zfill(5) + \"_\" + str(tl[\"label\"]) + \".png\"\n",
    "                    count += 1\n",
    "                    cv2.imwrite(os.path.join(path_save, str(tl[\"label\"]) , filename), cropped)"
   ]
  },
  {
   "cell_type": "code",
   "execution_count": 46,
   "metadata": {
    "collapsed": true
   },
   "outputs": [],
   "source": [
    "\n",
    "for d in test_data:\n",
    "    image = cv2.imread(os.path.join(path_test, \"rgb/test\", os.path.split(d[\"path\"])[1]))\n",
    "    for tl in d[\"boxes\"]:\n",
    "        x_min = max(int(tl[\"x_min\"]), 0) \n",
    "        x_max = max(int(tl[\"x_max\"]), 0)\n",
    "        y_min = max(int(tl[\"y_min\"]), 0)\n",
    "        y_max = max(int(tl[\"y_max\"]), 0)\n",
    "        deltax = x_max - x_min\n",
    "        if (deltax > 20) and (deltax < 40):                   #If the traffic light in the image is already big enough\n",
    "            miss = 40 - deltax\n",
    "            for i in range(5):\n",
    "                wide_x_up = random.randint(0, miss)\n",
    "                wide_x_down = miss - wide_x_up\n",
    "                y_center = (y_max + y_min) //2\n",
    "                cropped = image[y_center - 25 : y_center + 25 , x_min - wide_x_down - 5 : x_max + wide_x_up + 5, :]\n",
    "                if cropped.shape == (50, 50, 3):\n",
    "                    filename = str(count).zfill(5) + \"_\" + str(tl[\"label\"]) + \".png\"\n",
    "                    count += 1\n",
    "                    cv2.imwrite(os.path.join(path_save, str(tl[\"label\"]) , filename), cropped)\n"
   ]
  },
  {
   "cell_type": "code",
   "execution_count": 3,
   "metadata": {
    "collapsed": true
   },
   "outputs": [],
   "source": [
    "path_save = \"../../../data/traffic_lights_from_bosch/\"\n",
    "y = []\n",
    "X = []\n",
    "for dr in os.listdir(path_save):\n",
    "    for fil in os.listdir(os.path.join(path_save, dr)):\n",
    "        if \"Green\" in fil:\n",
    "            y.append(np.array([0,0,1]))\n",
    "        elif \"Red\" in fil:\n",
    "            y.append(np.array([1,0,0]))\n",
    "        elif \"Yellow\" in fil:\n",
    "            y.append(np.array([0,1,0]))\n",
    "        else:\n",
    "            continue\n",
    "        image = cv2.imread(os.path.join(path_save, dr, fil))\n",
    "        X.append(np.array(image))\n",
    "        \n",
    "\n",
    "X_train = np.array(X)\n",
    "y_train = np.array(y)\n",
    "\n",
    "    "
   ]
  },
  {
   "cell_type": "code",
   "execution_count": 4,
   "metadata": {},
   "outputs": [],
   "source": [
    "from sklearn.model_selection import train_test_split\n",
    "\n",
    "X_train, X_test, y_train, y_test = train_test_split(X_train, y_train, test_size=0.2)"
   ]
  },
  {
   "cell_type": "code",
   "execution_count": 68,
   "metadata": {},
   "outputs": [
    {
     "name": "stderr",
     "output_type": "stream",
     "text": [
      "Using TensorFlow backend.\n"
     ]
    },
    {
     "name": "stdout",
     "output_type": "stream",
     "text": [
      "_________________________________________________________________\n",
      "Layer (type)                 Output Shape              Param #   \n",
      "=================================================================\n",
      "conv2d_1 (Conv2D)            (None, 50, 50, 32)        416       \n",
      "_________________________________________________________________\n",
      "max_pooling2d_1 (MaxPooling2 (None, 25, 25, 32)        0         \n",
      "_________________________________________________________________\n",
      "conv2d_2 (Conv2D)            (None, 25, 25, 64)        8256      \n",
      "_________________________________________________________________\n",
      "max_pooling2d_2 (MaxPooling2 (None, 12, 12, 64)        0         \n",
      "_________________________________________________________________\n",
      "dropout_1 (Dropout)          (None, 12, 12, 64)        0         \n",
      "_________________________________________________________________\n",
      "flatten_1 (Flatten)          (None, 9216)              0         \n",
      "_________________________________________________________________\n",
      "dense_1 (Dense)              (None, 128)               1179776   \n",
      "_________________________________________________________________\n",
      "dropout_2 (Dropout)          (None, 128)               0         \n",
      "_________________________________________________________________\n",
      "dense_2 (Dense)              (None, 3)                 387       \n",
      "=================================================================\n",
      "Total params: 1,188,835\n",
      "Trainable params: 1,188,835\n",
      "Non-trainable params: 0\n",
      "_________________________________________________________________\n",
      "Train on 4563 samples, validate on 1141 samples\n",
      "Epoch 1/15\n",
      "4563/4563 [==============================] - 13s 3ms/step - loss: 2.4626 - acc: 0.8466 - val_loss: 2.3873 - val_acc: 0.8519\n",
      "Epoch 2/15\n",
      "4563/4563 [==============================] - 13s 3ms/step - loss: 2.4810 - acc: 0.8448 - val_loss: 2.3873 - val_acc: 0.8519\n",
      "Epoch 3/15\n",
      "4563/4563 [==============================] - 13s 3ms/step - loss: 1.8510 - acc: 0.8753 - val_loss: 0.7323 - val_acc: 0.9509\n",
      "Epoch 4/15\n",
      "4563/4563 [==============================] - 14s 3ms/step - loss: 0.6836 - acc: 0.9489 - val_loss: 0.2224 - val_acc: 0.9833\n",
      "Epoch 5/15\n",
      "4563/4563 [==============================] - 13s 3ms/step - loss: 0.2163 - acc: 0.9785 - val_loss: 0.0594 - val_acc: 0.9921\n",
      "Epoch 6/15\n",
      "4563/4563 [==============================] - 13s 3ms/step - loss: 0.1044 - acc: 0.9862 - val_loss: 0.0401 - val_acc: 0.9947\n",
      "Epoch 7/15\n",
      "4563/4563 [==============================] - 15s 3ms/step - loss: 0.0608 - acc: 0.9908 - val_loss: 0.0346 - val_acc: 0.9947\n",
      "Epoch 8/15\n",
      "4563/4563 [==============================] - 13s 3ms/step - loss: 0.0393 - acc: 0.9934 - val_loss: 0.0308 - val_acc: 0.9974\n",
      "Epoch 9/15\n",
      "4563/4563 [==============================] - 12s 3ms/step - loss: 0.0328 - acc: 0.9952 - val_loss: 0.0274 - val_acc: 0.9974\n",
      "Epoch 10/15\n",
      "4563/4563 [==============================] - 12s 3ms/step - loss: 0.0257 - acc: 0.9956 - val_loss: 0.0300 - val_acc: 0.9956\n",
      "Epoch 11/15\n",
      "4563/4563 [==============================] - 11s 2ms/step - loss: 0.0243 - acc: 0.9963 - val_loss: 0.0202 - val_acc: 0.9982\n",
      "Epoch 12/15\n",
      "4563/4563 [==============================] - 11s 2ms/step - loss: 0.0194 - acc: 0.9980 - val_loss: 0.0225 - val_acc: 0.9974\n",
      "Epoch 13/15\n",
      "4563/4563 [==============================] - 11s 2ms/step - loss: 0.0173 - acc: 0.9985 - val_loss: 0.0216 - val_acc: 0.9982\n",
      "Epoch 14/15\n",
      "4563/4563 [==============================] - 14s 3ms/step - loss: 0.0169 - acc: 0.9982 - val_loss: 0.0202 - val_acc: 0.9982\n",
      "Epoch 15/15\n",
      "4563/4563 [==============================] - 15s 3ms/step - loss: 0.0190 - acc: 0.9978 - val_loss: 0.0222 - val_acc: 0.9982\n"
     ]
    },
    {
     "data": {
      "text/plain": [
       "<keras.callbacks.History at 0x7f24b4df4850>"
      ]
     },
     "execution_count": 68,
     "metadata": {},
     "output_type": "execute_result"
    }
   ],
   "source": [
    "\n",
    "\n",
    "batch_size = 32\n",
    "epochs = 15\n",
    "input_shape = (50, 50, 3)\n",
    "num_classes = 3\n",
    "\n",
    "model = Sequential()\n",
    "model.add(Convolution2D(32, kernel_size=(2, 2),padding='same', activation='relu', input_shape=input_shape))\n",
    "model.add(MaxPooling2D(pool_size=(2, 2)))\n",
    "model.add(Convolution2D(64, (2, 2), activation='relu', padding='same'))\n",
    "model.add(MaxPooling2D(pool_size=(2, 2)))\n",
    "model.add(Dropout(0.25))\n",
    "model.add(Flatten())\n",
    "model.add(Dense(128, activation='relu'))\n",
    "model.add(Dropout(0.5))\n",
    "model.add(Dense(num_classes, activation='softmax'))\n",
    "\n",
    "model.compile(loss=keras.losses.categorical_crossentropy,\n",
    "              optimizer=keras.optimizers.Adadelta(),\n",
    "              metrics=['accuracy'])\n",
    "\n",
    "\n",
    "model.summary()\n",
    "model.fit(X_train, y_train,\n",
    "          batch_size=batch_size,\n",
    "          epochs=epochs,validation_data=(X_test, y_test))\n",
    "\n",
    "\n",
    "\n"
   ]
  },
  {
   "cell_type": "code",
   "execution_count": 7,
   "metadata": {},
   "outputs": [
    {
     "ename": "IndexError",
     "evalue": "list index out of range",
     "output_type": "error",
     "traceback": [
      "\u001b[0;31m---------------------------------------------------------------------------\u001b[0m",
      "\u001b[0;31mIndexError\u001b[0m                                Traceback (most recent call last)",
      "\u001b[0;32m<ipython-input-7-28dc01530dbf>\u001b[0m in \u001b[0;36m<module>\u001b[0;34m()\u001b[0m\n\u001b[1;32m      1\u001b[0m \u001b[0mmodel\u001b[0m \u001b[0;34m=\u001b[0m \u001b[0mSequential\u001b[0m\u001b[0;34m(\u001b[0m\u001b[0;34m)\u001b[0m\u001b[0;34m\u001b[0m\u001b[0m\n\u001b[0;32m----> 2\u001b[0;31m \u001b[0mmodel_json\u001b[0m \u001b[0;34m=\u001b[0m \u001b[0mmodel\u001b[0m\u001b[0;34m.\u001b[0m\u001b[0mto_json\u001b[0m\u001b[0;34m(\u001b[0m\u001b[0;34m)\u001b[0m\u001b[0;34m\u001b[0m\u001b[0m\n\u001b[0m\u001b[1;32m      3\u001b[0m \u001b[0;32mwith\u001b[0m \u001b[0mopen\u001b[0m\u001b[0;34m(\u001b[0m\u001b[0;34m\"model.json\"\u001b[0m\u001b[0;34m,\u001b[0m \u001b[0;34m\"w\"\u001b[0m\u001b[0;34m)\u001b[0m \u001b[0;32mas\u001b[0m \u001b[0mjson_file\u001b[0m\u001b[0;34m:\u001b[0m\u001b[0;34m\u001b[0m\u001b[0m\n\u001b[1;32m      4\u001b[0m     \u001b[0mjson_file\u001b[0m\u001b[0;34m.\u001b[0m\u001b[0mwrite\u001b[0m\u001b[0;34m(\u001b[0m\u001b[0mmodel_json\u001b[0m\u001b[0;34m)\u001b[0m\u001b[0;34m\u001b[0m\u001b[0m\n\u001b[1;32m      5\u001b[0m \u001b[0;34m\u001b[0m\u001b[0m\n",
      "\u001b[0;32m/home/ruggero/anaconda2/lib/python2.7/site-packages/keras/engine/topology.pyc\u001b[0m in \u001b[0;36mto_json\u001b[0;34m(self, **kwargs)\u001b[0m\n\u001b[1;32m   2666\u001b[0m             \u001b[0;32mraise\u001b[0m \u001b[0mTypeError\u001b[0m\u001b[0;34m(\u001b[0m\u001b[0;34m'Not JSON Serializable:'\u001b[0m\u001b[0;34m,\u001b[0m \u001b[0mobj\u001b[0m\u001b[0;34m)\u001b[0m\u001b[0;34m\u001b[0m\u001b[0m\n\u001b[1;32m   2667\u001b[0m \u001b[0;34m\u001b[0m\u001b[0m\n\u001b[0;32m-> 2668\u001b[0;31m         \u001b[0mmodel_config\u001b[0m \u001b[0;34m=\u001b[0m \u001b[0mself\u001b[0m\u001b[0;34m.\u001b[0m\u001b[0m_updated_config\u001b[0m\u001b[0;34m(\u001b[0m\u001b[0;34m)\u001b[0m\u001b[0;34m\u001b[0m\u001b[0m\n\u001b[0m\u001b[1;32m   2669\u001b[0m         \u001b[0;32mreturn\u001b[0m \u001b[0mjson\u001b[0m\u001b[0;34m.\u001b[0m\u001b[0mdumps\u001b[0m\u001b[0;34m(\u001b[0m\u001b[0mmodel_config\u001b[0m\u001b[0;34m,\u001b[0m \u001b[0mdefault\u001b[0m\u001b[0;34m=\u001b[0m\u001b[0mget_json_type\u001b[0m\u001b[0;34m,\u001b[0m \u001b[0;34m**\u001b[0m\u001b[0mkwargs\u001b[0m\u001b[0;34m)\u001b[0m\u001b[0;34m\u001b[0m\u001b[0m\n\u001b[1;32m   2670\u001b[0m \u001b[0;34m\u001b[0m\u001b[0m\n",
      "\u001b[0;32m/home/ruggero/anaconda2/lib/python2.7/site-packages/keras/engine/topology.pyc\u001b[0m in \u001b[0;36m_updated_config\u001b[0;34m(self)\u001b[0m\n\u001b[1;32m   2633\u001b[0m         \u001b[0;32mfrom\u001b[0m \u001b[0;34m.\u001b[0m\u001b[0;34m.\u001b[0m \u001b[0;32mimport\u001b[0m \u001b[0m__version__\u001b[0m \u001b[0;32mas\u001b[0m \u001b[0mkeras_version\u001b[0m\u001b[0;34m\u001b[0m\u001b[0m\n\u001b[1;32m   2634\u001b[0m \u001b[0;34m\u001b[0m\u001b[0m\n\u001b[0;32m-> 2635\u001b[0;31m         \u001b[0mconfig\u001b[0m \u001b[0;34m=\u001b[0m \u001b[0mself\u001b[0m\u001b[0;34m.\u001b[0m\u001b[0mget_config\u001b[0m\u001b[0;34m(\u001b[0m\u001b[0;34m)\u001b[0m\u001b[0;34m\u001b[0m\u001b[0m\n\u001b[0m\u001b[1;32m   2636\u001b[0m         model_config = {\n\u001b[1;32m   2637\u001b[0m             \u001b[0;34m'class_name'\u001b[0m\u001b[0;34m:\u001b[0m \u001b[0mself\u001b[0m\u001b[0;34m.\u001b[0m\u001b[0m__class__\u001b[0m\u001b[0;34m.\u001b[0m\u001b[0m__name__\u001b[0m\u001b[0;34m,\u001b[0m\u001b[0;34m\u001b[0m\u001b[0m\n",
      "\u001b[0;32m/home/ruggero/anaconda2/lib/python2.7/site-packages/keras/models.pyc\u001b[0m in \u001b[0;36mget_config\u001b[0;34m(self)\u001b[0m\n\u001b[1;32m   1230\u001b[0m \u001b[0;34m\u001b[0m\u001b[0m\n\u001b[1;32m   1231\u001b[0m     \u001b[0;32mdef\u001b[0m \u001b[0mget_config\u001b[0m\u001b[0;34m(\u001b[0m\u001b[0mself\u001b[0m\u001b[0;34m)\u001b[0m\u001b[0;34m:\u001b[0m\u001b[0;34m\u001b[0m\u001b[0m\n\u001b[0;32m-> 1232\u001b[0;31m         \u001b[0;32mif\u001b[0m \u001b[0misinstance\u001b[0m\u001b[0;34m(\u001b[0m\u001b[0mself\u001b[0m\u001b[0;34m.\u001b[0m\u001b[0mlayers\u001b[0m\u001b[0;34m[\u001b[0m\u001b[0;36m0\u001b[0m\u001b[0;34m]\u001b[0m\u001b[0;34m,\u001b[0m \u001b[0mlegacy_layers\u001b[0m\u001b[0;34m.\u001b[0m\u001b[0mMerge\u001b[0m\u001b[0;34m)\u001b[0m\u001b[0;34m:\u001b[0m\u001b[0;34m\u001b[0m\u001b[0m\n\u001b[0m\u001b[1;32m   1233\u001b[0m             \u001b[0;32mreturn\u001b[0m \u001b[0mself\u001b[0m\u001b[0;34m.\u001b[0m\u001b[0mlegacy_get_config\u001b[0m\u001b[0;34m(\u001b[0m\u001b[0;34m)\u001b[0m\u001b[0;34m\u001b[0m\u001b[0m\n\u001b[1;32m   1234\u001b[0m \u001b[0;34m\u001b[0m\u001b[0m\n",
      "\u001b[0;31mIndexError\u001b[0m: list index out of range"
     ]
    }
   ],
   "source": [
    "\n",
    "model_json = model.to_json()\n",
    "with open(\"model.json\", \"w\") as json_file:\n",
    "    json_file.write(model_json)\n",
    "\n",
    "model.save_weights(\"model.h5\")"
   ]
  },
  {
   "cell_type": "code",
   "execution_count": 8,
   "metadata": {},
   "outputs": [
    {
     "name": "stdout",
     "output_type": "stream",
     "text": [
      "Loaded model from disk\n"
     ]
    }
   ],
   "source": [
    "from keras.models import model_from_json\n",
    "json_file = open('model.json', 'r')\n",
    "loaded_model_json = json_file.read()\n",
    "json_file.close()\n",
    "loaded_model = model_from_json(loaded_model_json)\n",
    "# load weights into new model\n",
    "loaded_model.load_weights(\"model.h5\")\n",
    "print(\"Loaded model from disk\")\n",
    " \n",
    "# evaluate loaded model on test data\n",
    "#loaded_model.compile(loss='binary_crossentropy', optimizer='rmsprop', metrics=['accuracy'])\n",
    "#score = loaded_model.evaluate(X, Y, verbose=0)\n",
    "#print(\"%s: %.2f%%\" % (loaded_model.metrics_names[1], score[1]*100))"
   ]
  },
  {
   "cell_type": "code",
   "execution_count": 10,
   "metadata": {},
   "outputs": [
    {
     "data": {
      "text/plain": [
       "array([[ 0.,  0.,  1.]], dtype=float32)"
      ]
     },
     "execution_count": 10,
     "metadata": {},
     "output_type": "execute_result"
    }
   ],
   "source": [
    "loaded_model.predict(X_train[0:1,:,:,:])"
   ]
  },
  {
   "cell_type": "code",
   "execution_count": 11,
   "metadata": {},
   "outputs": [
    {
     "data": {
      "text/plain": [
       "(4563, 50, 50, 3)"
      ]
     },
     "execution_count": 11,
     "metadata": {},
     "output_type": "execute_result"
    }
   ],
   "source": [
    "X_train.shape"
   ]
  },
  {
   "cell_type": "code",
   "execution_count": 23,
   "metadata": {
    "collapsed": true
   },
   "outputs": [],
   "source": [
    "image  = cv2.imread(\"00003.png\").reshape(1,50,50,3)"
   ]
  },
  {
   "cell_type": "code",
   "execution_count": 24,
   "metadata": {},
   "outputs": [
    {
     "data": {
      "text/plain": [
       "(1, 50, 50, 3)"
      ]
     },
     "execution_count": 24,
     "metadata": {},
     "output_type": "execute_result"
    }
   ],
   "source": [
    "image.shape"
   ]
  },
  {
   "cell_type": "code",
   "execution_count": 25,
   "metadata": {},
   "outputs": [
    {
     "data": {
      "text/plain": [
       "array([[  4.70353886e-02,   1.67888993e-31,   9.52964604e-01]], dtype=float32)"
      ]
     },
     "execution_count": 25,
     "metadata": {},
     "output_type": "execute_result"
    }
   ],
   "source": [
    "loaded_model.predict(image)"
   ]
  },
  {
   "cell_type": "code",
   "execution_count": 26,
   "metadata": {},
   "outputs": [
    {
     "data": {
      "image/png": "[encoded data removed]",
      "text/plain": [
       "<matplotlib.figure.Figure at 0x7fa130737d10>"
      ]
     },
     "metadata": {},
     "output_type": "display_data"
    }
   ],
   "source": [
    "plt.imshow(image[0])\n",
    "plt.show()"
   ]
  },
  {
   "cell_type": "code",
   "execution_count": null,
   "metadata": {
    "collapsed": true
   },
   "outputs": [],
   "source": []
  }
 ],
 "metadata": {
  "kernelspec": {
   "display_name": "Python 2",
   "language": "python",
   "name": "python2"
  },
  "language_info": {
   "codemirror_mode": {
    "name": "ipython",
    "version": 2
   },
   "file_extension": ".py",
   "mimetype": "text/x-python",
   "name": "python",
   "nbconvert_exporter": "python",
   "pygments_lexer": "ipython2",
   "version": "2.7.13"
  }
 },
 "nbformat": 4,
 "nbformat_minor": 2
}
